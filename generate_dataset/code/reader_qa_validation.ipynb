{
 "cells": [
  {
   "cell_type": "code",
   "execution_count": 26,
   "id": "5806a625",
   "metadata": {},
   "outputs": [],
   "source": [
    "import os\n",
    "import json"
   ]
  },
  {
   "cell_type": "code",
   "execution_count": 29,
   "id": "d94ac3a4",
   "metadata": {},
   "outputs": [
    {
     "name": "stdout",
     "output_type": "stream",
     "text": [
      "COVID-reader_dev.json\n",
      "COVID-reader_train.json\n",
      "COVID-reader_test.json\n"
     ]
    }
   ],
   "source": [
    "#input target file\n",
    "input_folder = \"/Users/verenakarina/Desktop/URECA/generate_dataset(updated)/8_files/reader\"\n",
    "folder_list = os.listdir(input_folder)\n",
    "\n",
    "for file in folder_list:\n",
    "    print(file)\n",
    "    input_json = f\"{input_folder}/{file}\"\n",
    "    with open(input_json, \"r\", encoding = \"utf-8\") as json_file:\n",
    "        objs = json.load(json_file)\n",
    "\n",
    "    for i in range(len(objs)):\n",
    "        answer = objs[i][\"answers\"][0]\n",
    "        label = objs[i][\"ctxs\"][0][\"text\"]\n",
    "        \n",
    "        #will return the id if answer not found\n",
    "        if answer not in label:\n",
    "            id = objs[i][\"ctxs\"][0][\"id\"]\n",
    "            print(f'{id} answer NOT FOUND')\n"
   ]
  },
  {
   "cell_type": "code",
   "execution_count": null,
   "id": "519d7fdd",
   "metadata": {},
   "outputs": [],
   "source": []
  }
 ],
 "metadata": {
  "kernelspec": {
   "display_name": "Python 3 (ipykernel)",
   "language": "python",
   "name": "python3"
  },
  "language_info": {
   "codemirror_mode": {
    "name": "ipython",
    "version": 3
   },
   "file_extension": ".py",
   "mimetype": "text/x-python",
   "name": "python",
   "nbconvert_exporter": "python",
   "pygments_lexer": "ipython3",
   "version": "3.9.12"
  }
 },
 "nbformat": 4,
 "nbformat_minor": 5
}
