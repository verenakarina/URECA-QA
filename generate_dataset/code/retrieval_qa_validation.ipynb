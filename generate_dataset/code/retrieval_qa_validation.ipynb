{
 "cells": [
  {
   "cell_type": "code",
   "execution_count": 1,
   "id": "8522ded5",
   "metadata": {},
   "outputs": [],
   "source": [
    "import os\n",
    "import json"
   ]
  },
  {
   "cell_type": "code",
   "execution_count": 3,
   "id": "258d9b87",
   "metadata": {},
   "outputs": [
    {
     "name": "stdout",
     "output_type": "stream",
     "text": [
      "COVID-retrieval_train.json\n",
      "COVID-retrieval_test.json\n",
      "COVID-retrieval_dev.json\n"
     ]
    }
   ],
   "source": [
    "#input target file\n",
    "input_folder = \"/Users/verenakarina/Desktop/URECA/generate_dataset(updated)/8_files/retrieval\"\n",
    "folder_list = os.listdir(input_folder)\n",
    "\n",
    "for file in folder_list:\n",
    "    print(file)\n",
    "    input_json = f\"{input_folder}/{file}\"\n",
    "    with open(input_json, \"r\", encoding = \"utf-8\") as json_file:\n",
    "        objs = json.load(json_file)\n",
    "\n",
    "    for i in range(len(objs)):\n",
    "        answer = objs[i][\"answers\"][0]\n",
    "        label = objs[i][\"positive_ctxs\"][0][\"text\"]\n",
    "        \n",
    "        #will return the objs index if answer not found\n",
    "        if answer not in label:\n",
    "            print(f'{i} answer NOT FOUND')\n"
   ]
  },
  {
   "cell_type": "code",
   "execution_count": 8,
   "id": "61e908a3",
   "metadata": {},
   "outputs": [
    {
     "data": {
      "text/plain": [
       "\"confirming whether or not this is happening must be an urgent task for the chinese investigation. modellers have suggested reproductive rates (r 0 ) of 3.8 (95% confidence interval, 3.6-4.0)  and 2.6 (1.5-3.5)  ; r 0 for sars was estimated at around 3 in the absence of control measures  .the economic impact of major outbreaks can be substantial for the affected country. this was seen clearly in sars, mers in rok and ebola in west africa. one analyst estimates that the current coronavirus outbreak's likely impact will range from a 0.8% cut to real gdp if the epidemic is controlled within 3 months, to a 1.9% cost to gdp if the epidemic lasts 9 months  . this may increase substantially in the light of the extended restrictions on movement, and therefore trade and commerce, within china.the emergence of a significant respiratory illness linked to a novel coronavirus represents a test of the global capacity to detect and mange emerging disease threats.\""
      ]
     },
     "execution_count": 8,
     "metadata": {},
     "output_type": "execute_result"
    }
   ],
   "source": [
    "yay = \"Confirming whether or not this is happening must be an urgent task for the Chinese investigation. Modellers have suggested reproductive rates (R 0 ) of 3.8 (95% confidence interval, 3.6-4.0)  and 2.6 (1.5-3.5)  ; R 0 for SARS was estimated at around 3 in the absence of control measures  .The economic impact of major outbreaks can be substantial for the affected country. This was seen clearly in SARS, MERS in RoK and Ebola in West Africa. One analyst estimates that the current coronavirus outbreak's likely impact will range from a 0.8% cut to real GDP if the epidemic is controlled within 3 months, to a 1.9% cost to GDP if the epidemic lasts 9 months  . This may increase substantially in the light of the extended restrictions on movement, and therefore trade and commerce, within China.The emergence of a significant respiratory illness linked to a novel coronavirus represents a test of the global capacity to detect and mange emerging disease threats.\"\n",
    "\n",
    "yay.lower()"
   ]
  },
  {
   "cell_type": "code",
   "execution_count": null,
   "id": "fde1747c",
   "metadata": {},
   "outputs": [],
   "source": []
  }
 ],
 "metadata": {
  "kernelspec": {
   "display_name": "Python 3 (ipykernel)",
   "language": "python",
   "name": "python3"
  },
  "language_info": {
   "codemirror_mode": {
    "name": "ipython",
    "version": 3
   },
   "file_extension": ".py",
   "mimetype": "text/x-python",
   "name": "python",
   "nbconvert_exporter": "python",
   "pygments_lexer": "ipython3",
   "version": "3.9.12"
  }
 },
 "nbformat": 4,
 "nbformat_minor": 5
}
